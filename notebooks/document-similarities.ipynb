{
 "cells": [
  {
   "cell_type": "code",
   "execution_count": 20,
   "metadata": {},
   "outputs": [],
   "source": [
    "import gzip\n",
    "import json\n",
    "import pandas as pd\n",
    "import seaborn as sns\n",
    "\n",
    "doc_id_to_doc_id_to_similarity = {}\n",
    "\n",
    "with gzip.open('../data/document-similarities.jsonl.gz') as f:\n",
    "    for l in f:\n",
    "        l = json.loads(l.decode('utf8'))\n",
    "\n",
    "        for s in l['scores']:\n",
    "            first_doc_id, last_doc_id = sorted([s['doc-a'], s['doc-b']])\n",
    "            if first_doc_id not in doc_id_to_doc_id_to_similarity:\n",
    "                doc_id_to_doc_id_to_similarity[first_doc_id] = {}\n",
    "            \n",
    "            doc_id_to_doc_id_to_similarity[first_doc_id][last_doc_id] = float(s['s3-score'])\n",
    "\n",
    "df_s3_scores = []\n",
    "\n",
    "for first_doc_id in doc_id_to_doc_id_to_similarity.keys():\n",
    "    for second_doc_id, s3_score in doc_id_to_doc_id_to_similarity[first_doc_id].items():\n",
    "        df_s3_scores += [{'first': first_doc_id, 'second': second_doc_id, 's3-score': s3_score}]\n",
    "\n",
    "df_s3_scores = pd.DataFrame(df_s3_scores)"
   ]
  },
  {
   "cell_type": "code",
   "execution_count": 21,
   "metadata": {},
   "outputs": [
    {
     "data": {
      "text/html": [
       "<div>\n",
       "<style scoped>\n",
       "    .dataframe tbody tr th:only-of-type {\n",
       "        vertical-align: middle;\n",
       "    }\n",
       "\n",
       "    .dataframe tbody tr th {\n",
       "        vertical-align: top;\n",
       "    }\n",
       "\n",
       "    .dataframe thead th {\n",
       "        text-align: right;\n",
       "    }\n",
       "</style>\n",
       "<table border=\"1\" class=\"dataframe\">\n",
       "  <thead>\n",
       "    <tr style=\"text-align: right;\">\n",
       "      <th></th>\n",
       "      <th>s3-score</th>\n",
       "    </tr>\n",
       "  </thead>\n",
       "  <tbody>\n",
       "    <tr>\n",
       "      <th>count</th>\n",
       "      <td>175517.000000</td>\n",
       "    </tr>\n",
       "    <tr>\n",
       "      <th>mean</th>\n",
       "      <td>0.716625</td>\n",
       "    </tr>\n",
       "    <tr>\n",
       "      <th>std</th>\n",
       "      <td>0.363263</td>\n",
       "    </tr>\n",
       "    <tr>\n",
       "      <th>min</th>\n",
       "      <td>0.000000</td>\n",
       "    </tr>\n",
       "    <tr>\n",
       "      <th>25%</th>\n",
       "      <td>0.553779</td>\n",
       "    </tr>\n",
       "    <tr>\n",
       "      <th>50%</th>\n",
       "      <td>0.887685</td>\n",
       "    </tr>\n",
       "    <tr>\n",
       "      <th>75%</th>\n",
       "      <td>1.000000</td>\n",
       "    </tr>\n",
       "    <tr>\n",
       "      <th>max</th>\n",
       "      <td>1.000000</td>\n",
       "    </tr>\n",
       "  </tbody>\n",
       "</table>\n",
       "</div>"
      ],
      "text/plain": [
       "            s3-score\n",
       "count  175517.000000\n",
       "mean        0.716625\n",
       "std         0.363263\n",
       "min         0.000000\n",
       "25%         0.553779\n",
       "50%         0.887685\n",
       "75%         1.000000\n",
       "max         1.000000"
      ]
     },
     "execution_count": 21,
     "metadata": {},
     "output_type": "execute_result"
    }
   ],
   "source": [
    "df_s3_scores[['s3-score']].describe()"
   ]
  },
  {
   "cell_type": "code",
   "execution_count": 31,
   "metadata": {},
   "outputs": [
    {
     "data": {
      "text/plain": [
       "<Axes: xlabel='s3-score', ylabel='Proportion'>"
      ]
     },
     "execution_count": 31,
     "metadata": {},
     "output_type": "execute_result"
    },
    {
     "data": {
      "image/png": "[encoded data removed]",
      "text/plain": [
       "<Figure size 640x480 with 1 Axes>"
      ]
     },
     "metadata": {},
     "output_type": "display_data"
    }
   ],
   "source": [
    "plt = sns.ecdfplot(data=df_s3_scores, x='s3-score')\n",
    "plt.get_figure().savefig(\"../figures/document-similarities.pdf\") \n",
    "plt"
   ]
  }
 ],
 "metadata": {
  "kernelspec": {
   "display_name": "Python 3",
   "language": "python",
   "name": "python3"
  },
  "language_info": {
   "codemirror_mode": {
    "name": "ipython",
    "version": 3
   },
   "file_extension": ".py",
   "mimetype": "text/x-python",
   "name": "python",
   "nbconvert_exporter": "python",
   "pygments_lexer": "ipython3",
   "version": "3.12.5"
  }
 },
 "nbformat": 4,
 "nbformat_minor": 2
}
